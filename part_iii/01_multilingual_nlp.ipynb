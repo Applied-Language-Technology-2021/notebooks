{
 "cells": [
  {
   "cell_type": "markdown",
   "metadata": {},
   "source": [
    "# Working with languages beyond English\n",
    "\n",
    "## Introduction\n",
    "\n",
    "Part II introduced basic natural language processing tasks using examples in English.\n",
    "\n",
    "As the current *lingua franca*, English is a highly-resourced language in terms of natural language processing. This means that compared to other languages, English has far more resources (e.g. training and evaluation data) and models trained to perform a wider range of tasks.\n",
    "\n",
    "The imbalance in resources and research effort has led to a situation where the advances in processing the English language are occasionally claimed to hold for natural language in general. \n",
    "\n",
    "However, as Bender ([2019](https://thegradient.pub/the-benderrule-on-naming-the-languages-we-study-and-why-it-matters/)) has pointed out, *English is not a synonym for natural language*: even if one demonstrates that computers can achieve or surpass human-level performance in some natural language processing task for the English language, this does not mean that one has solved this task or problem for *natural language as a whole*.\n",
    "\n",
    "To measure progress in natural language processing and to ensure that as many languages as possible can benefit from advances in the field, it is highly desirable to conduct research on natural language processing for typologically different languages across the world. "
   ]
  },
  {
   "cell_type": "markdown",
   "metadata": {},
   "source": [
    "## Extending spaCy through Stanza\n",
    "\n",
    "[Stanza](https://stanfordnlp.github.io/stanza/) is a Python library for natural language processing that currently provides pre-trained language models for [66 languages](https://stanfordnlp.github.io/stanza/available_models.html) (Qi et al. [2020](https://www.aclweb.org/anthology/2020.acl-demos.14/)).\n",
    "\n",
    "Stanza builds on the [Universal Dependencies](https://universaldependencies.org/) formalism, which means that Stanza models can perform tasks such as tokenization, part-of-speech tagging, morphological tagging and dependency parsing, which were introduced in [Part II](../part_ii/03_basic_nlp.ipynb) using the spaCy library.\n",
    "\n",
    "The spaCy library provides an extension named [*spacy-stanza*](https://spacy.io/universe/project/spacy-stanza) that allows using Stanza language models in spaCy, which considerably increases the number of pre-trained models available for languages other than English.\n",
    "\n",
    "To start using Stanza language models in spaCy, let's start by importing both NLP libraries and the `StanzaLanguage` class from the *spacy-stanza* library.  "
   ]
  },
  {
   "cell_type": "code",
   "execution_count": null,
   "metadata": {},
   "outputs": [],
   "source": [
    "# Import libraries\n",
    "import spacy\n",
    "import stanza\n",
    "\n",
    "# Import StanzaLanguage class from the spacy_stanza library\n",
    "from spacy_stanza import StanzaLanguage"
   ]
  },
  {
   "cell_type": "markdown",
   "metadata": {},
   "source": [
    "First, we must download the Stanza language model we wish to use using the `download()` method.\n",
    "\n",
    "The `download()` method requires a single argument, `lang`, which defines the language model to be downloaded.\n",
    "\n",
    "To download a language model for a given language, retrieve the two-letter language code (e.g. *en*) for the language from [the list of available language models](https://stanfordnlp.github.io/stanza/available_models.html) and pass the language code as a string object to the `lang` argument.\n",
    "\n",
    "To place the downloaded language model into the permanent storage on [CSC Notebooks](https://notebooks.csc.fi/), we must also pass the optional `dir` argument that points towards a directory in the permanent storage.\n",
    "\n",
    "Run the following cell to download the Stanza language model for English."
   ]
  },
  {
   "cell_type": "code",
   "execution_count": null,
   "metadata": {
    "nbsphinx": {
     "execute": "never"
    }
   },
   "outputs": [],
   "source": [
    "stanza.download(lang=\"en\", dir=\"~/stanza_models\")"
   ]
  },
  {
   "cell_type": "markdown",
   "metadata": {},
   "source": [
    "Stanza automatically downloads the model trained on the largest available dataset for a given language.\n",
    "\n",
    "If you wish to use an alternative model, you must pass the optional argument `package` to the `download()` method and provide the package name as a string object, e.g. `stanza.download(lang=\"fi\", package=\"ftb\")`. The package names are provided in [the list of language models](https://stanfordnlp.github.io/stanza/available_models.html) available for Stanza."
   ]
  },
  {
   "cell_type": "markdown",
   "metadata": {},
   "source": [
    "We first initialise a Stanza language model using the `Pipeline()` method.\n",
    "\n",
    "For the purpose of exemplifying the procedure, let's import a model for the English language.\n",
    "\n",
    "Models for specific languages are loaded by providing the language code as a string to the `lang` argument. \n",
    "\n",
    "If Stanza models have been downloaded into some other directory than the default one, a path to this directory must be provided as a string to the `dir` argument."
   ]
  },
  {
   "cell_type": "code",
   "execution_count": null,
   "metadata": {},
   "outputs": [],
   "source": [
    "# Use the Pipeline() method to initialise a Stanza\n",
    "# pipeline with a language model for English, which\n",
    "# is assigned to the variable 'stanza_model'.\n",
    "stanza_model = stanza.Pipeline(lang=\"en\", \n",
    "                               dir=\"~/stanza_models\")\n",
    "\n",
    "# Call the variable to examine the output\n",
    "stanza_model"
   ]
  },
  {
   "cell_type": "markdown",
   "metadata": {},
   "source": [
    "This returns a Stanza *Pipeline* object, which contains the language model and a number of components performing various natural language processing tasks."
   ]
  },
  {
   "cell_type": "code",
   "execution_count": null,
   "metadata": {},
   "outputs": [],
   "source": [
    "nlp = StanzaLanguage(stanza_model)"
   ]
  }
 ],
 "metadata": {
  "celltoolbar": "Edit Metadata",
  "kernelspec": {
   "display_name": "Python 3",
   "language": "python",
   "name": "python3"
  },
  "language_info": {
   "codemirror_mode": {
    "name": "ipython",
    "version": 3
   },
   "file_extension": ".py",
   "mimetype": "text/x-python",
   "name": "python",
   "nbconvert_exporter": "python",
   "pygments_lexer": "ipython3",
   "version": "3.8.5"
  }
 },
 "nbformat": 4,
 "nbformat_minor": 4
}
