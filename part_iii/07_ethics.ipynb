{
 "cells": [
  {
   "cell_type": "markdown",
   "metadata": {},
   "source": [
    "# Ethics and language technology\n",
    "\n",
    "Research on language technology is often described as task-oriented, that is, the field defines and solves tasks that involve both natural language and computation. The task-oriented nature of the field may have contributed to the illusion that ethical issues were somehow irrelevant.\n",
    "\n",
    "However, language technology is created and applied by humans, which inevitably raises a wealth of ethical issues. These issues are now increasingly acknowledged within the community.\n",
    "\n",
    "After reading this section, you should be aware of some ethical issues related to language technology."
   ]
  },
  {
   "cell_type": "markdown",
   "metadata": {},
   "source": [
    "## Biases in language models\n",
    "\n",
    "https://www.aclweb.org/anthology/P16-2096/\n",
    "\n",
    "https://www.aclweb.org/anthology/2020.acl-main.468/"
   ]
  },
  {
   "cell_type": "markdown",
   "metadata": {},
   "source": [
    "## Sustainability\n",
    "\n",
    "https://www.aclweb.org/anthology/P19-1355/"
   ]
  },
  {
   "cell_type": "markdown",
   "metadata": {},
   "source": [
    "## Decolonialising language technology\n",
    "\n",
    "https://www.aclweb.org/anthology/2020.coling-main.313/"
   ]
  }
 ],
 "metadata": {
  "kernelspec": {
   "display_name": "Python 3",
   "language": "python",
   "name": "python3"
  },
  "language_info": {
   "codemirror_mode": {
    "name": "ipython",
    "version": 3
   },
   "file_extension": ".py",
   "mimetype": "text/x-python",
   "name": "python",
   "nbconvert_exporter": "python",
   "pygments_lexer": "ipython3",
   "version": "3.8.5"
  }
 },
 "nbformat": 4,
 "nbformat_minor": 4
}
